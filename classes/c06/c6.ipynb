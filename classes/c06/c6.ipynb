{
  "cells": [
    {
      "cell_type": "markdown",
      "id": "b3d25de3-3d67-4d8a-861c-bbae226f370e",
      "metadata": {
        "id": "b3d25de3-3d67-4d8a-861c-bbae226f370e"
      },
      "source": [
        "## Контрольная работа CVDL, 24.10.22\n",
        "Вам необходимо обучить многоклассовый классификатор изображений на train части датасета, находящегося в DATASET_PATH.\n",
        "Также надо проверить что обучение сошлось, и замерять метрики на test.\n",
        "\n",
        "Баллы:\n",
        " - работающий код тренировки с правильным лоссом и головой для задачи многоклассовой классификации: **4** балла\n",
        " - метрики precision/recall по классам по train и test: **2** балла\n",
        " - график train и test лоссов: **2** балла\n",
        " - отсутствие оверфита (по графикам train-test): **2** балла\n",
        "\n",
        "Предполагается, что вы используете предобученную модель и затюните ее. Датасеты train и тест маленькие, всего по  2500 изображений, так что обучение сети с нуля приведет скорее всего к оверфиту."
      ]
    },
    {
      "cell_type": "code",
      "source": [
        "from google.colab import drive\n",
        "drive.mount('/content/drive')"
      ],
      "metadata": {
        "colab": {
          "base_uri": "https://localhost:8080/"
        },
        "id": "uw5rYyuXnnKF",
        "outputId": "ab36e183-7fb5-4d0e-b88f-1cddc819b0d1"
      },
      "id": "uw5rYyuXnnKF",
      "execution_count": 1,
      "outputs": [
        {
          "output_type": "stream",
          "name": "stdout",
          "text": [
            "Drive already mounted at /content/drive; to attempt to forcibly remount, call drive.mount(\"/content/drive\", force_remount=True).\n"
          ]
        }
      ]
    },
    {
      "cell_type": "code",
      "source": [
        "import warnings\n",
        "warnings.filterwarnings('ignore')"
      ],
      "metadata": {
        "id": "jLzyRdpC7vNZ"
      },
      "id": "jLzyRdpC7vNZ",
      "execution_count": 2,
      "outputs": []
    },
    {
      "cell_type": "code",
      "execution_count": 3,
      "id": "2bfd7c47-0a78-49c7-a897-14dab8c3efe0",
      "metadata": {
        "id": "2bfd7c47-0a78-49c7-a897-14dab8c3efe0"
      },
      "outputs": [],
      "source": [
        "from pathlib import Path\n",
        "\n",
        "#######\n",
        "DATASET_PATH = \"/content/drive/MyDrive/cvdl/GroceryStoreDataset/dataset\"\n",
        "#######\n",
        "\n",
        "DATASET_PATH = Path(DATASET_PATH)\n",
        "assert DATASET_PATH.exists()"
      ]
    },
    {
      "cell_type": "code",
      "execution_count": 4,
      "id": "68fa8523-24dc-449e-9163-eba4e7229207",
      "metadata": {
        "id": "68fa8523-24dc-449e-9163-eba4e7229207"
      },
      "outputs": [],
      "source": [
        "import torch\n",
        "import numpy as np\n",
        "from tqdm import tqdm"
      ]
    },
    {
      "cell_type": "code",
      "execution_count": 5,
      "id": "8c81445a-5d4f-4c9b-a372-620534e48ece",
      "metadata": {
        "id": "8c81445a-5d4f-4c9b-a372-620534e48ece"
      },
      "outputs": [],
      "source": [
        "from torchvision.datasets.folder import DatasetFolder, default_loader\n",
        "from typing import Optional, Callable, Tuple, Any, List\n",
        "import pandas as pd\n",
        "\n",
        "\n",
        "class FoodDataset(DatasetFolder):\n",
        "    def __init__(self,\n",
        "            root: str,\n",
        "            classes_path: str,\n",
        "            transform: Optional[Callable] = None,\n",
        "            target_transform: Optional[Callable] = None,\n",
        "            ):\n",
        "        super().__init__(root=root, transform=transform, loader=default_loader, target_transform=target_transform, extensions='')\n",
        "        self.root = Path(root)\n",
        "        self._image_paths = self.find_images_recursively(self.root)\n",
        "        self._classes_map = pd.read_csv(classes_path).set_index('Class Name (str)')['Coarse Class Name (str)']\n",
        "        self._image_labels = [self.determine_sample_label(self.root, ip) for ip in self._image_paths]\n",
        "        self.classes = list(dict.fromkeys(self._classes_map))\n",
        "        self.samples = [\n",
        "            (sample_path, self.classes.index(sample_cls))\n",
        "            for (sample_path, sample_cls) in zip(self._image_paths, self._image_labels)\n",
        "        ]\n",
        "\n",
        "    def find_images_recursively(self, root_path):\n",
        "        files = list(root_path.glob(\"[!.]*\"))\n",
        "        samples = list(f for f in files if not f.is_dir())\n",
        "        subdirs = list(f for f in files if f.is_dir())\n",
        "        assert len(samples) == 0 or len(subdirs) == 0, f\"Can't mix subdirs and images\"\n",
        "        if len(subdirs):\n",
        "            samples = []\n",
        "            for sub_root_path in subdirs:\n",
        "                samples += self.find_images_recursively(sub_root_path)\n",
        "        return samples\n",
        "\n",
        "    def determine_sample_label(self, root_path, sample_path):\n",
        "        parts = sample_path.relative_to(root_path).parent.parts\n",
        "        precise_label = parts[-1]\n",
        "        coarse_label = self._classes_map[precise_label]\n",
        "        return coarse_label"
      ]
    },
    {
      "cell_type": "code",
      "execution_count": 6,
      "id": "51ad01a8-25fc-4da1-8bd7-2d3d881cf079",
      "metadata": {
        "colab": {
          "base_uri": "https://localhost:8080/"
        },
        "id": "51ad01a8-25fc-4da1-8bd7-2d3d881cf079",
        "outputId": "3f0875ce-e40f-43f8-85b1-8d85d9b755f7"
      },
      "outputs": [
        {
          "output_type": "stream",
          "name": "stdout",
          "text": [
            "2640 2485\n"
          ]
        }
      ],
      "source": [
        "ds_train = FoodDataset(DATASET_PATH / 'train', DATASET_PATH / 'classes.csv')\n",
        "ds_test = FoodDataset(DATASET_PATH / 'test', DATASET_PATH / 'classes.csv')\n",
        "print(len(ds_train), len(ds_test))"
      ]
    },
    {
      "cell_type": "code",
      "execution_count": 7,
      "id": "c315c199-9efc-4bdf-9ba7-40154f3206af",
      "metadata": {
        "colab": {
          "base_uri": "https://localhost:8080/"
        },
        "id": "c315c199-9efc-4bdf-9ba7-40154f3206af",
        "outputId": "b5e95bb6-6bf5-4f20-b24d-9135f4136055"
      },
      "outputs": [
        {
          "output_type": "execute_result",
          "data": {
            "text/plain": [
              "True"
            ]
          },
          "metadata": {},
          "execution_count": 7
        }
      ],
      "source": [
        "ds_train.classes == ds_test.classes"
      ]
    },
    {
      "cell_type": "code",
      "execution_count": 8,
      "id": "ef20b61c-ce96-4b29-84b3-7e63b3e9da3d",
      "metadata": {
        "colab": {
          "base_uri": "https://localhost:8080/",
          "height": 383
        },
        "id": "ef20b61c-ce96-4b29-84b3-7e63b3e9da3d",
        "outputId": "63c4bd61-b64e-4d08-d6f7-afa4ef2a340a"
      },
      "outputs": [
        {
          "output_type": "stream",
          "name": "stdout",
          "text": [
            "Banana\n"
          ]
        },
        {
          "output_type": "execute_result",
          "data": {
            "text/plain": [
              "<PIL.Image.Image image mode=RGB size=348x348>"
            ],
            "image/png": "[encoded data removed]"
          },
          "metadata": {},
          "execution_count": 8
        }
      ],
      "source": [
        "img, cls_idx = ds_train[750]\n",
        "print(ds_train.classes[cls_idx])\n",
        "img"
      ]
    },
    {
      "cell_type": "markdown",
      "id": "484c378c-d1e7-4035-9ccd-8ed334b19550",
      "metadata": {
        "id": "484c378c-d1e7-4035-9ccd-8ed334b19550"
      },
      "source": [
        "### Подготовка к тренировке"
      ]
    },
    {
      "cell_type": "code",
      "execution_count": 9,
      "id": "b88f6db0-cc4e-4cb6-a60a-8d2636459bea",
      "metadata": {
        "id": "b88f6db0-cc4e-4cb6-a60a-8d2636459bea"
      },
      "outputs": [],
      "source": [
        "N_CLASSES = len(ds_train.classes)"
      ]
    },
    {
      "cell_type": "code",
      "execution_count": 10,
      "id": "0a66106d-8c84-43d8-9162-6e425a4a6e0b",
      "metadata": {
        "id": "0a66106d-8c84-43d8-9162-6e425a4a6e0b"
      },
      "outputs": [],
      "source": [
        "import torchvision.transforms as transforms"
      ]
    },
    {
      "cell_type": "code",
      "execution_count": 11,
      "id": "51f88bc2-7980-4f0d-ab16-4f213efc0d55",
      "metadata": {
        "id": "51f88bc2-7980-4f0d-ab16-4f213efc0d55"
      },
      "outputs": [],
      "source": [
        "target_transform = lambda x: torch.Tensor([x]).long()[0]\n",
        "\n",
        "test_transform = transforms.Compose(\n",
        "    [\n",
        "        transforms.ToTensor(),\n",
        "        transforms.Normalize(\n",
        "            mean=[0.485, 0.456, 0.406],\n",
        "            std=[0.229, 0.224, 0.225]\n",
        "        ),\n",
        "        transforms.Resize((224, 224)),\n",
        "    ]\n",
        ")\n"
      ]
    },
    {
      "cell_type": "markdown",
      "id": "18d4bf42-b38d-4691-9cfd-6985fa1e17be",
      "metadata": {
        "id": "18d4bf42-b38d-4691-9cfd-6985fa1e17be"
      },
      "source": [
        "Трансформы можно менять - например, можно добавить аугментации"
      ]
    },
    {
      "cell_type": "code",
      "execution_count": 12,
      "id": "6a9d3cb6-4a61-4cc3-9d5a-9151c3e87f23",
      "metadata": {
        "id": "6a9d3cb6-4a61-4cc3-9d5a-9151c3e87f23"
      },
      "outputs": [],
      "source": [
        "train_transform = test_transform"
      ]
    },
    {
      "cell_type": "code",
      "execution_count": 13,
      "id": "c61aa000-68a0-4656-a238-d3fec21c810b",
      "metadata": {
        "id": "c61aa000-68a0-4656-a238-d3fec21c810b"
      },
      "outputs": [],
      "source": [
        "ds_train = FoodDataset(DATASET_PATH / 'train', DATASET_PATH / 'classes.csv', transform=train_transform, target_transform=target_transform)\n",
        "ds_test = FoodDataset(DATASET_PATH / 'test', DATASET_PATH / 'classes.csv', transform=test_transform, target_transform=target_transform)"
      ]
    },
    {
      "cell_type": "code",
      "execution_count": 14,
      "id": "b391c24f-0353-4b65-9556-cc6f1ef19365",
      "metadata": {
        "id": "b391c24f-0353-4b65-9556-cc6f1ef19365"
      },
      "outputs": [],
      "source": [
        "trainloader = torch.utils.data.DataLoader(\n",
        "    ds_train, batch_size=32, shuffle=True, num_workers=4\n",
        ")\n",
        "testloader = torch.utils.data.DataLoader(\n",
        "    ds_test, batch_size=32, shuffle=False, num_workers=4\n",
        ")"
      ]
    },
    {
      "cell_type": "markdown",
      "id": "06bfa70c-4a4c-4641-8ee5-ba81387196d7",
      "metadata": {
        "id": "06bfa70c-4a4c-4641-8ee5-ba81387196d7"
      },
      "source": [
        "### Построение модели\n",
        "Используйте не слишком тяжелую pretrained-модель, заморозьте ее и добавьте голову на N классов.\n",
        "\n",
        "Важно помнить, что для некоторых слоев поведение в train/eval режимах - разное, и от этого зависит \"успешность\" тюнинга."
      ]
    },
    {
      "cell_type": "code",
      "source": [
        "import torchvision\n",
        "import torch.nn as nn"
      ],
      "metadata": {
        "id": "swr0Yg6foMho"
      },
      "id": "swr0Yg6foMho",
      "execution_count": 15,
      "outputs": []
    },
    {
      "cell_type": "code",
      "execution_count": 16,
      "id": "bad0c7aa-ed85-4201-90f8-97f1e53a3a47",
      "metadata": {
        "id": "bad0c7aa-ed85-4201-90f8-97f1e53a3a47"
      },
      "outputs": [],
      "source": [
        "model = torchvision.models.resnet18(pretrained=True)\n",
        "num_ftrs = model.fc.in_features\n",
        "model.fc = nn.Linear(num_ftrs, N_CLASSES)\n",
        "net = model"
      ]
    },
    {
      "cell_type": "markdown",
      "id": "4496fdf1-e483-4c2e-b63f-68d69e731496",
      "metadata": {
        "id": "4496fdf1-e483-4c2e-b63f-68d69e731496"
      },
      "source": [
        "## Лосс"
      ]
    },
    {
      "cell_type": "code",
      "execution_count": 17,
      "id": "66615fb5-884f-400a-bdb5-aa1985219d57",
      "metadata": {
        "id": "66615fb5-884f-400a-bdb5-aa1985219d57"
      },
      "outputs": [],
      "source": [
        "criterion = nn.CrossEntropyLoss()"
      ]
    },
    {
      "cell_type": "markdown",
      "id": "8b0a3626-c6bc-4dce-8afa-1ae3183821d8",
      "metadata": {
        "id": "8b0a3626-c6bc-4dce-8afa-1ae3183821d8"
      },
      "source": [
        "## Тренировка"
      ]
    },
    {
      "cell_type": "markdown",
      "id": "c316bc11-d5ad-46a2-ab2f-618cea6710d8",
      "metadata": {
        "id": "c316bc11-d5ad-46a2-ab2f-618cea6710d8"
      },
      "source": [
        "Для легкого backbone с замороженными весами на batch=32 скорость train ~ 10 батчей в секунду, а в эпохе ~ 80 батчей.\n",
        "\n",
        "Тренировка в 50 эпох займет 80batch / 10batch/s * 50ep * 2 \\[train + test\\] = 800s ~13min"
      ]
    },
    {
      "cell_type": "code",
      "execution_count": 18,
      "id": "e4eb9e2b-853a-478e-be99-ce3fc8066456",
      "metadata": {
        "id": "e4eb9e2b-853a-478e-be99-ce3fc8066456"
      },
      "outputs": [],
      "source": [
        "from sklearn.metrics import precision_score, recall_score, f1_score\n",
        "\n",
        "class PrecisionAndRecall(nn.Module):\n",
        "    def forward(self, input_prob: torch.Tensor, target: torch.Tensor):\n",
        "        target = target.detach().cpu()\n",
        "        input_cls = torch.argmax(input_prob, dim=1, keepdims=True).detach().cpu()\n",
        "\n",
        "        precision = precision_score(target, input_cls, average='micro')\n",
        "        recall = recall_score(target, input_cls, average='micro')\n",
        "\n",
        "        return precision, recall\n",
        "\n",
        "metric = PrecisionAndRecall()"
      ]
    },
    {
      "cell_type": "code",
      "execution_count": 19,
      "id": "a0ab9c67-df66-46f8-8ded-714d4053f7cb",
      "metadata": {
        "id": "a0ab9c67-df66-46f8-8ded-714d4053f7cb"
      },
      "outputs": [],
      "source": [
        "def run_1_epoch(net, optimizer, dataloader, criterion, device=None, log_freq=10):\n",
        "    loss_logs = []\n",
        "    precisions = []\n",
        "    recalls = []\n",
        "    is_training = net.training\n",
        "\n",
        "    for num, (x, y) in tqdm(enumerate((iter(dataloader)))):\n",
        "        x, y = x.to(device), y.to(device)\n",
        "        y_pred = net(x)\n",
        "        loss_val = criterion(y_pred, y)\n",
        "        precision, recall = metric(y_pred, y)\n",
        "\n",
        "        if is_training:\n",
        "            optimizer.zero_grad()\n",
        "            loss_val.backward()\n",
        "            optimizer.step()\n",
        "\n",
        "        if num % log_freq == 0:\n",
        "            loss_logs.append(loss_val.mean().detach().cpu().item())\n",
        "            precisions.append(precision)\n",
        "            recalls.append(recall)\n",
        "\n",
        "    return np.mean(loss_logs), np.mean(precisions), np.mean(recalls)"
      ]
    },
    {
      "cell_type": "code",
      "source": [
        "def train(net, optimizer, train_dataloader, test_dataloader, criterion, num_epochs, device):\n",
        "    stats = {\"train\": [], \"val\": []}\n",
        "    for e in range(num_epochs):\n",
        "        print(f'Epoch {e}:')\n",
        "        print(f\"Training:\")\n",
        "        net.train()\n",
        "        epoch_stats = run_1_epoch(net, optimizer, train_dataloader, criterion, device, log_freq=1)\n",
        "        stats[\"train\"].append(epoch_stats)\n",
        "        print(epoch_stats)\n",
        "\n",
        "        print(f\"Validating:\")\n",
        "        net.eval()\n",
        "        epoch_stats = run_1_epoch(net, optimizer, test_dataloader, criterion, device, log_freq=1)\n",
        "        stats[\"val\"].append(epoch_stats)\n",
        "        print(epoch_stats)\n",
        "\n",
        "    return stats"
      ],
      "metadata": {
        "id": "i4iJ_43FwqKX"
      },
      "id": "i4iJ_43FwqKX",
      "execution_count": 20,
      "outputs": []
    },
    {
      "cell_type": "code",
      "execution_count": 21,
      "id": "e42cad1b-cd64-48c6-ba22-4dc3fba7b03e",
      "metadata": {
        "id": "e42cad1b-cd64-48c6-ba22-4dc3fba7b03e"
      },
      "outputs": [],
      "source": [
        "gpu = torch.device('cuda')\n",
        "net = net.to(gpu)\n",
        "opt = torch.optim.Adam(net.parameters(), lr=3e-5)"
      ]
    },
    {
      "cell_type": "code",
      "execution_count": 22,
      "id": "64e0f859-bd79-41a3-bb41-3d1e451ef314",
      "metadata": {
        "id": "64e0f859-bd79-41a3-bb41-3d1e451ef314"
      },
      "outputs": [],
      "source": [
        "N_epochs = 15"
      ]
    },
    {
      "cell_type": "code",
      "execution_count": 23,
      "id": "ef420b33-7090-460b-9277-8299bb4df6d4",
      "metadata": {
        "colab": {
          "base_uri": "https://localhost:8080/"
        },
        "id": "ef420b33-7090-460b-9277-8299bb4df6d4",
        "outputId": "942da360-8b61-4276-8a36-ab34208ca6d7"
      },
      "outputs": [
        {
          "output_type": "stream",
          "name": "stdout",
          "text": [
            "Epoch 0:\n",
            "Training:\n"
          ]
        },
        {
          "output_type": "stream",
          "name": "stderr",
          "text": [
            "83it [00:25,  3.32it/s]"
          ]
        },
        {
          "output_type": "stream",
          "name": "stdout",
          "text": [
            "(2.4971956632223473, 0.4115210843373494, 0.4115210843373494)\n",
            "Validating:\n"
          ]
        },
        {
          "output_type": "stream",
          "name": "stderr",
          "text": [
            "\n",
            "78it [00:17,  4.36it/s]\n"
          ]
        },
        {
          "output_type": "stream",
          "name": "stdout",
          "text": [
            "(1.7666315940710215, 0.5833333333333334, 0.5833333333333334)\n",
            "Epoch 1:\n",
            "Training:\n"
          ]
        },
        {
          "output_type": "stream",
          "name": "stderr",
          "text": [
            "83it [00:19,  4.27it/s]"
          ]
        },
        {
          "output_type": "stream",
          "name": "stdout",
          "text": [
            "(1.116192294890622, 0.7782379518072289, 0.7782379518072289)\n",
            "Validating:\n"
          ]
        },
        {
          "output_type": "stream",
          "name": "stderr",
          "text": [
            "\n",
            "78it [00:14,  5.28it/s]"
          ]
        },
        {
          "output_type": "stream",
          "name": "stdout",
          "text": [
            "(1.1918972507119179, 0.7091346153846154, 0.7091346153846154)\n",
            "Epoch 2:\n",
            "Training:\n"
          ]
        },
        {
          "output_type": "stream",
          "name": "stderr",
          "text": [
            "\n",
            "83it [00:17,  4.76it/s]"
          ]
        },
        {
          "output_type": "stream",
          "name": "stdout",
          "text": [
            "(0.5861530390130468, 0.9220632530120482, 0.9220632530120482)\n",
            "Validating:\n"
          ]
        },
        {
          "output_type": "stream",
          "name": "stderr",
          "text": [
            "\n",
            "78it [00:15,  5.17it/s]"
          ]
        },
        {
          "output_type": "stream",
          "name": "stdout",
          "text": [
            "(0.8809269334261234, 0.7798763736263736, 0.7798763736263736)\n",
            "Epoch 3:\n",
            "Training:\n"
          ]
        },
        {
          "output_type": "stream",
          "name": "stderr",
          "text": [
            "\n",
            "83it [00:16,  5.02it/s]"
          ]
        },
        {
          "output_type": "stream",
          "name": "stdout",
          "text": [
            "(0.3197002385754183, 0.978539156626506, 0.978539156626506)\n",
            "Validating:\n"
          ]
        },
        {
          "output_type": "stream",
          "name": "stderr",
          "text": [
            "\n",
            "78it [00:15,  4.95it/s]"
          ]
        },
        {
          "output_type": "stream",
          "name": "stdout",
          "text": [
            "(0.708048510341308, 0.832226800976801, 0.832226800976801)\n",
            "Epoch 4:\n",
            "Training:\n"
          ]
        },
        {
          "output_type": "stream",
          "name": "stderr",
          "text": [
            "\n",
            "83it [00:17,  4.82it/s]"
          ]
        },
        {
          "output_type": "stream",
          "name": "stdout",
          "text": [
            "(0.18685142938272062, 0.995105421686747, 0.995105421686747)\n",
            "Validating:\n"
          ]
        },
        {
          "output_type": "stream",
          "name": "stderr",
          "text": [
            "\n",
            "78it [00:15,  5.15it/s]\n"
          ]
        },
        {
          "output_type": "stream",
          "name": "stdout",
          "text": [
            "(0.6425756550370119, 0.8406402625152626, 0.8406402625152626)\n",
            "Epoch 5:\n",
            "Training:\n"
          ]
        },
        {
          "output_type": "stream",
          "name": "stderr",
          "text": [
            "83it [00:17,  4.83it/s]"
          ]
        },
        {
          "output_type": "stream",
          "name": "stdout",
          "text": [
            "(0.12466406813227987, 0.9981174698795181, 0.9981174698795181)\n",
            "Validating:\n"
          ]
        },
        {
          "output_type": "stream",
          "name": "stderr",
          "text": [
            "\n",
            "78it [00:14,  5.30it/s]"
          ]
        },
        {
          "output_type": "stream",
          "name": "stdout",
          "text": [
            "(0.5848347856543767, 0.8454479548229549, 0.8454479548229549)\n",
            "Epoch 6:\n",
            "Training:\n"
          ]
        },
        {
          "output_type": "stream",
          "name": "stderr",
          "text": [
            "\n",
            "83it [00:17,  4.74it/s]"
          ]
        },
        {
          "output_type": "stream",
          "name": "stdout",
          "text": [
            "(0.08348202498921428, 0.9992469879518072, 0.9992469879518072)\n",
            "Validating:\n"
          ]
        },
        {
          "output_type": "stream",
          "name": "stderr",
          "text": [
            "\n",
            "78it [00:14,  5.23it/s]"
          ]
        },
        {
          "output_type": "stream",
          "name": "stdout",
          "text": [
            "(0.546843882650137, 0.8580586080586081, 0.8580586080586081)\n",
            "Epoch 7:\n",
            "Training:\n"
          ]
        },
        {
          "output_type": "stream",
          "name": "stderr",
          "text": [
            "\n",
            "83it [00:17,  4.81it/s]"
          ]
        },
        {
          "output_type": "stream",
          "name": "stdout",
          "text": [
            "(0.05754260328340243, 1.0, 1.0)\n",
            "Validating:\n"
          ]
        },
        {
          "output_type": "stream",
          "name": "stderr",
          "text": [
            "\n",
            "78it [00:14,  5.32it/s]"
          ]
        },
        {
          "output_type": "stream",
          "name": "stdout",
          "text": [
            "(0.5287347202881788, 0.8528502747252747, 0.8528502747252747)\n",
            "Epoch 8:\n",
            "Training:\n"
          ]
        },
        {
          "output_type": "stream",
          "name": "stderr",
          "text": [
            "\n",
            "83it [00:16,  4.95it/s]"
          ]
        },
        {
          "output_type": "stream",
          "name": "stdout",
          "text": [
            "(0.04628429088337594, 0.9992469879518072, 0.9992469879518072)\n",
            "Validating:\n"
          ]
        },
        {
          "output_type": "stream",
          "name": "stderr",
          "text": [
            "\n",
            "78it [00:14,  5.30it/s]"
          ]
        },
        {
          "output_type": "stream",
          "name": "stdout",
          "text": [
            "(0.5093347305097641, 0.8590697496947498, 0.8590697496947498)\n",
            "Epoch 9:\n",
            "Training:\n"
          ]
        },
        {
          "output_type": "stream",
          "name": "stderr",
          "text": [
            "\n",
            "83it [00:17,  4.86it/s]"
          ]
        },
        {
          "output_type": "stream",
          "name": "stdout",
          "text": [
            "(0.03532942286860871, 1.0, 1.0)\n",
            "Validating:\n"
          ]
        },
        {
          "output_type": "stream",
          "name": "stderr",
          "text": [
            "\n",
            "78it [00:14,  5.22it/s]"
          ]
        },
        {
          "output_type": "stream",
          "name": "stdout",
          "text": [
            "(0.4964836524942747, 0.8658997252747253, 0.8658997252747253)\n",
            "Epoch 10:\n",
            "Training:\n"
          ]
        },
        {
          "output_type": "stream",
          "name": "stderr",
          "text": [
            "\n",
            "83it [00:23,  3.54it/s]"
          ]
        },
        {
          "output_type": "stream",
          "name": "stdout",
          "text": [
            "(0.029882235317883723, 1.0, 1.0)\n",
            "Validating:\n"
          ]
        },
        {
          "output_type": "stream",
          "name": "stderr",
          "text": [
            "\n",
            "78it [00:18,  4.17it/s]"
          ]
        },
        {
          "output_type": "stream",
          "name": "stdout",
          "text": [
            "(0.4685751191125466, 0.8660905067155067, 0.8660905067155067)\n",
            "Epoch 11:\n",
            "Training:\n"
          ]
        },
        {
          "output_type": "stream",
          "name": "stderr",
          "text": [
            "\n",
            "83it [00:22,  3.62it/s]"
          ]
        },
        {
          "output_type": "stream",
          "name": "stdout",
          "text": [
            "(0.025161142561988658, 1.0, 1.0)\n",
            "Validating:\n"
          ]
        },
        {
          "output_type": "stream",
          "name": "stderr",
          "text": [
            "\n",
            "78it [00:14,  5.28it/s]"
          ]
        },
        {
          "output_type": "stream",
          "name": "stdout",
          "text": [
            "(0.4483468257463895, 0.8714896214896216, 0.8714896214896216)\n",
            "Epoch 12:\n",
            "Training:\n"
          ]
        },
        {
          "output_type": "stream",
          "name": "stderr",
          "text": [
            "\n",
            "83it [00:16,  4.90it/s]"
          ]
        },
        {
          "output_type": "stream",
          "name": "stdout",
          "text": [
            "(0.021415811043277562, 1.0, 1.0)\n",
            "Validating:\n"
          ]
        },
        {
          "output_type": "stream",
          "name": "stderr",
          "text": [
            "\n",
            "78it [00:15,  5.09it/s]"
          ]
        },
        {
          "output_type": "stream",
          "name": "stdout",
          "text": [
            "(0.47455397262596166, 0.863476800976801, 0.863476800976801)\n",
            "Epoch 13:\n",
            "Training:\n"
          ]
        },
        {
          "output_type": "stream",
          "name": "stderr",
          "text": [
            "\n",
            "83it [00:17,  4.77it/s]"
          ]
        },
        {
          "output_type": "stream",
          "name": "stdout",
          "text": [
            "(0.018844533902424646, 1.0, 1.0)\n",
            "Validating:\n"
          ]
        },
        {
          "output_type": "stream",
          "name": "stderr",
          "text": [
            "\n",
            "78it [00:15,  5.19it/s]\n"
          ]
        },
        {
          "output_type": "stream",
          "name": "stdout",
          "text": [
            "(0.46614463825542957, 0.8650793650793651, 0.8650793650793651)\n",
            "Epoch 14:\n",
            "Training:\n"
          ]
        },
        {
          "output_type": "stream",
          "name": "stderr",
          "text": [
            "83it [00:18,  4.61it/s]"
          ]
        },
        {
          "output_type": "stream",
          "name": "stdout",
          "text": [
            "(0.017039503879755377, 1.0, 1.0)\n",
            "Validating:\n"
          ]
        },
        {
          "output_type": "stream",
          "name": "stderr",
          "text": [
            "\n",
            "78it [00:15,  4.88it/s]"
          ]
        },
        {
          "output_type": "stream",
          "name": "stdout",
          "text": [
            "(0.43888448839051986, 0.8718902625152626, 0.8718902625152626)\n"
          ]
        },
        {
          "output_type": "stream",
          "name": "stderr",
          "text": [
            "\n"
          ]
        }
      ],
      "source": [
        "res = train(\n",
        "    net=net,\n",
        "    optimizer=opt,\n",
        "    train_dataloader=trainloader,\n",
        "    test_dataloader=testloader,\n",
        "    criterion=criterion,\n",
        "    num_epochs=N_epochs,\n",
        "    device=gpu\n",
        ")"
      ]
    },
    {
      "cell_type": "code",
      "source": [
        "train_logs = res['train']\n",
        "train_loss = [i[0] for i in train_logs]\n",
        "train_precision = [i[1] for i in train_logs]\n",
        "train_recall = [i[2] for i in train_logs]\n",
        "\n",
        "val_logs = res['val']\n",
        "val_loss = [i[0] for i in val_logs]\n",
        "val_precision = [i[1] for i in val_logs]\n",
        "val_recall = [i[2] for i in val_logs]"
      ],
      "metadata": {
        "id": "R9qYwmNYw7fa"
      },
      "id": "R9qYwmNYw7fa",
      "execution_count": 24,
      "outputs": []
    },
    {
      "cell_type": "markdown",
      "id": "82db2c33-ec2f-415d-a077-8374581bc5c8",
      "metadata": {
        "id": "82db2c33-ec2f-415d-a077-8374581bc5c8"
      },
      "source": [
        "## Метрики и лосс"
      ]
    },
    {
      "cell_type": "code",
      "source": [
        "net.eval()\n",
        "train_stats = run_1_epoch(net, opt, trainloader, criterion, gpu)\n",
        "train_stats"
      ],
      "metadata": {
        "colab": {
          "base_uri": "https://localhost:8080/"
        },
        "id": "_IWJagS-xIab",
        "outputId": "b5229121-802b-4da1-aaa9-9da003d67067"
      },
      "id": "_IWJagS-xIab",
      "execution_count": 25,
      "outputs": [
        {
          "output_type": "stream",
          "name": "stderr",
          "text": [
            "83it [00:15,  5.26it/s]\n"
          ]
        },
        {
          "output_type": "execute_result",
          "data": {
            "text/plain": [
              "(0.0030399160200936925, 1.0, 1.0)"
            ]
          },
          "metadata": {},
          "execution_count": 25
        }
      ]
    },
    {
      "cell_type": "code",
      "source": [
        "net.eval()\n",
        "test_stats = run_1_epoch(net, opt, testloader, criterion, gpu)\n",
        "test_stats"
      ],
      "metadata": {
        "colab": {
          "base_uri": "https://localhost:8080/"
        },
        "id": "pyAHttYZxDqR",
        "outputId": "e8ee2247-c788-410e-ab5a-9fb383ebb8ed"
      },
      "id": "pyAHttYZxDqR",
      "execution_count": 26,
      "outputs": [
        {
          "output_type": "stream",
          "name": "stderr",
          "text": [
            "78it [00:14,  5.21it/s]\n"
          ]
        },
        {
          "output_type": "execute_result",
          "data": {
            "text/plain": [
              "(0.42458803625777364, 0.87109375, 0.87109375)"
            ]
          },
          "metadata": {},
          "execution_count": 26
        }
      ]
    },
    {
      "cell_type": "code",
      "source": [
        "print(f\"Train Precision/Recall: {[train_stats[1], train_stats[2]]}, \\nTest Precision/Recall {[test_stats[1], test_stats[2]]}\")"
      ],
      "metadata": {
        "colab": {
          "base_uri": "https://localhost:8080/"
        },
        "id": "OdqyocMOxLeh",
        "outputId": "1b8d2103-18f7-4f21-e230-e25b93dfb2c0"
      },
      "id": "OdqyocMOxLeh",
      "execution_count": 27,
      "outputs": [
        {
          "output_type": "stream",
          "name": "stdout",
          "text": [
            "Train Precision/Recall: [1.0, 1.0], \n",
            "Test Precision/Recall [0.87109375, 0.87109375]\n"
          ]
        }
      ]
    },
    {
      "cell_type": "code",
      "source": [
        "from matplotlib import pyplot as plt\n",
        "\n",
        "plt.plot(np.arange(len(train_loss)), train_loss, label='train')\n",
        "plt.plot(np.arange(len(val_loss)), val_loss, label='test')\n",
        "\n",
        "plt.title(f'loss ({N_epochs} epochs)')\n",
        "plt.grid()\n",
        "plt.legend()"
      ],
      "metadata": {
        "colab": {
          "base_uri": "https://localhost:8080/",
          "height": 470
        },
        "id": "ccV_XeafxTR-",
        "outputId": "9cb4ebd3-0330-4a0e-c2d9-142346be91a6"
      },
      "id": "ccV_XeafxTR-",
      "execution_count": 28,
      "outputs": [
        {
          "output_type": "execute_result",
          "data": {
            "text/plain": [
              "<matplotlib.legend.Legend at 0x7fbf739f7610>"
            ]
          },
          "metadata": {},
          "execution_count": 28
        },
        {
          "output_type": "display_data",
          "data": {
            "text/plain": [
              "<Figure size 640x480 with 1 Axes>"
            ],
            "image/png": "[encoded data removed]"
          },
          "metadata": {}
        }
      ]
    },
    {
      "cell_type": "markdown",
      "id": "3daaea62-1817-4a88-a9a2-ff81bdac3368",
      "metadata": {
        "id": "3daaea62-1817-4a88-a9a2-ff81bdac3368"
      },
      "source": [
        "### Окружение\n",
        "Список пакетов в python виртуальной машины"
      ]
    },
    {
      "cell_type": "code",
      "execution_count": 29,
      "id": "31623d29-da51-4c9a-9132-947ca1086144",
      "metadata": {
        "colab": {
          "base_uri": "https://localhost:8080/"
        },
        "id": "31623d29-da51-4c9a-9132-947ca1086144",
        "outputId": "5bb349c4-3ba3-4880-f9df-65eb7f0a42c0"
      },
      "outputs": [
        {
          "output_type": "stream",
          "name": "stdout",
          "text": [
            "Tue Oct 17 14:37:14 2023       \n",
            "+-----------------------------------------------------------------------------+\n",
            "| NVIDIA-SMI 525.105.17   Driver Version: 525.105.17   CUDA Version: 12.0     |\n",
            "|-------------------------------+----------------------+----------------------+\n",
            "| GPU  Name        Persistence-M| Bus-Id        Disp.A | Volatile Uncorr. ECC |\n",
            "| Fan  Temp  Perf  Pwr:Usage/Cap|         Memory-Usage | GPU-Util  Compute M. |\n",
            "|                               |                      |               MIG M. |\n",
            "|===============================+======================+======================|\n",
            "|   0  Tesla T4            Off  | 00000000:00:04.0 Off |                    0 |\n",
            "| N/A   72C    P0    30W /  70W |   1953MiB / 15360MiB |      0%      Default |\n",
            "|                               |                      |                  N/A |\n",
            "+-------------------------------+----------------------+----------------------+\n",
            "                                                                               \n",
            "+-----------------------------------------------------------------------------+\n",
            "| Processes:                                                                  |\n",
            "|  GPU   GI   CI        PID   Type   Process name                  GPU Memory |\n",
            "|        ID   ID                                                   Usage      |\n",
            "|=============================================================================|\n",
            "+-----------------------------------------------------------------------------+\n"
          ]
        }
      ],
      "source": [
        "! nvidia-smi"
      ]
    },
    {
      "cell_type": "code",
      "execution_count": 30,
      "id": "79cef41f-85a9-4f5d-9f0f-47111deb6cb6",
      "metadata": {
        "colab": {
          "base_uri": "https://localhost:8080/"
        },
        "id": "79cef41f-85a9-4f5d-9f0f-47111deb6cb6",
        "outputId": "3833ae0c-6a6c-4a7d-f796-b0eda7768b6a"
      },
      "outputs": [
        {
          "output_type": "stream",
          "name": "stdout",
          "text": [
            "DISTRIB_ID=Ubuntu\n",
            "DISTRIB_RELEASE=22.04\n",
            "DISTRIB_CODENAME=jammy\n",
            "DISTRIB_DESCRIPTION=\"Ubuntu 22.04.2 LTS\"\n"
          ]
        }
      ],
      "source": [
        "! cat /etc/lsb-release"
      ]
    },
    {
      "cell_type": "code",
      "execution_count": 31,
      "id": "7e74050a-cf96-4f7a-82c9-e3b0384f0994",
      "metadata": {
        "colab": {
          "base_uri": "https://localhost:8080/"
        },
        "id": "7e74050a-cf96-4f7a-82c9-e3b0384f0994",
        "outputId": "ef21957b-16b0-421b-c997-23156cdbfee2"
      },
      "outputs": [
        {
          "output_type": "stream",
          "name": "stdout",
          "text": [
            "Python 3.10.12\n"
          ]
        }
      ],
      "source": [
        "! python -V"
      ]
    },
    {
      "cell_type": "code",
      "execution_count": 32,
      "id": "d4ea9ae8-e5f7-4b37-aa9e-c5bb45683e83",
      "metadata": {
        "colab": {
          "base_uri": "https://localhost:8080/"
        },
        "id": "d4ea9ae8-e5f7-4b37-aa9e-c5bb45683e83",
        "outputId": "caec7873-d532-46be-d588-3bb8ae764ac9"
      },
      "outputs": [
        {
          "output_type": "stream",
          "name": "stdout",
          "text": [
            "Package                          Version\n",
            "-------------------------------- ---------------------\n",
            "absl-py                          1.4.0\n",
            "aiohttp                          3.8.6\n",
            "aiosignal                        1.3.1\n",
            "alabaster                        0.7.13\n",
            "albumentations                   1.3.1\n",
            "altair                           4.2.2\n",
            "anyio                            3.7.1\n",
            "appdirs                          1.4.4\n",
            "argon2-cffi                      23.1.0\n",
            "argon2-cffi-bindings             21.2.0\n",
            "array-record                     0.4.1\n",
            "arviz                            0.15.1\n",
            "astropy                          5.3.4\n",
            "astunparse                       1.6.3\n",
            "async-timeout                    4.0.3\n",
            "attrs                            23.1.0\n",
            "audioread                        3.0.1\n",
            "autograd                         1.6.2\n",
            "Babel                            2.13.0\n",
            "backcall                         0.2.0\n",
            "beautifulsoup4                   4.11.2\n",
            "bleach                           6.1.0\n",
            "blinker                          1.4\n",
            "blis                             0.7.11\n",
            "blosc2                           2.0.0\n",
            "bokeh                            3.2.2\n",
            "bqplot                           0.12.40\n",
            "branca                           0.6.0\n",
            "build                            1.0.3\n",
            "CacheControl                     0.13.1\n",
            "cachetools                       5.3.1\n",
            "catalogue                        2.0.10\n",
            "certifi                          2023.7.22\n",
            "cffi                             1.16.0\n",
            "chardet                          5.2.0\n",
            "charset-normalizer               3.3.0\n",
            "chex                             0.1.7\n",
            "click                            8.1.7\n",
            "click-plugins                    1.1.1\n",
            "cligj                            0.7.2\n",
            "cloudpickle                      2.2.1\n",
            "cmake                            3.27.6\n",
            "cmdstanpy                        1.2.0\n",
            "colorcet                         3.0.1\n",
            "colorlover                       0.3.0\n",
            "colour                           0.1.5\n",
            "community                        1.0.0b1\n",
            "confection                       0.1.3\n",
            "cons                             0.4.6\n",
            "contextlib2                      21.6.0\n",
            "contourpy                        1.1.1\n",
            "cryptography                     41.0.4\n",
            "cufflinks                        0.17.3\n",
            "cupy-cuda11x                     11.0.0\n",
            "cvxopt                           1.3.2\n",
            "cvxpy                            1.3.2\n",
            "cycler                           0.12.1\n",
            "cymem                            2.0.8\n",
            "Cython                           3.0.3\n",
            "dask                             2023.8.1\n",
            "datascience                      0.17.6\n",
            "db-dtypes                        1.1.1\n",
            "dbus-python                      1.2.18\n",
            "debugpy                          1.6.6\n",
            "decorator                        4.4.2\n",
            "defusedxml                       0.7.1\n",
            "distributed                      2023.8.1\n",
            "distro                           1.7.0\n",
            "dlib                             19.24.2\n",
            "dm-tree                          0.1.8\n",
            "docutils                         0.18.1\n",
            "dopamine-rl                      4.0.6\n",
            "duckdb                           0.8.1\n",
            "earthengine-api                  0.1.374\n",
            "easydict                         1.10\n",
            "ecos                             2.0.12\n",
            "editdistance                     0.6.2\n",
            "eerepr                           0.0.4\n",
            "en-core-web-sm                   3.6.0\n",
            "entrypoints                      0.4\n",
            "et-xmlfile                       1.1.0\n",
            "etils                            1.5.0\n",
            "etuples                          0.3.9\n",
            "exceptiongroup                   1.1.3\n",
            "fastai                           2.7.12\n",
            "fastcore                         1.5.29\n",
            "fastdownload                     0.0.7\n",
            "fastjsonschema                   2.18.1\n",
            "fastprogress                     1.0.3\n",
            "fastrlock                        0.8.2\n",
            "filelock                         3.12.4\n",
            "Fiona                            1.9.4.post1\n",
            "firebase-admin                   5.3.0\n",
            "Flask                            2.2.5\n",
            "flatbuffers                      23.5.26\n",
            "flax                             0.7.4\n",
            "folium                           0.14.0\n",
            "fonttools                        4.43.1\n",
            "frozendict                       2.3.8\n",
            "frozenlist                       1.4.0\n",
            "fsspec                           2023.6.0\n",
            "future                           0.18.3\n",
            "gast                             0.4.0\n",
            "gcsfs                            2023.6.0\n",
            "GDAL                             3.4.3\n",
            "gdown                            4.6.6\n",
            "geemap                           0.28.2\n",
            "gensim                           4.3.2\n",
            "geocoder                         1.38.1\n",
            "geographiclib                    2.0\n",
            "geopandas                        0.13.2\n",
            "geopy                            2.3.0\n",
            "gin-config                       0.5.0\n",
            "glob2                            0.7\n",
            "google                           2.0.3\n",
            "google-api-core                  2.11.1\n",
            "google-api-python-client         2.84.0\n",
            "google-auth                      2.17.3\n",
            "google-auth-httplib2             0.1.1\n",
            "google-auth-oauthlib             1.0.0\n",
            "google-cloud-bigquery            3.10.0\n",
            "google-cloud-bigquery-connection 1.12.1\n",
            "google-cloud-bigquery-storage    2.22.0\n",
            "google-cloud-core                2.3.3\n",
            "google-cloud-datastore           2.15.2\n",
            "google-cloud-firestore           2.11.1\n",
            "google-cloud-functions           1.13.3\n",
            "google-cloud-language            2.9.1\n",
            "google-cloud-storage             2.8.0\n",
            "google-cloud-translate           3.11.3\n",
            "google-colab                     1.0.0\n",
            "google-crc32c                    1.5.0\n",
            "google-pasta                     0.2.0\n",
            "google-resumable-media           2.6.0\n",
            "googleapis-common-protos         1.60.0\n",
            "googledrivedownloader            0.4\n",
            "graphviz                         0.20.1\n",
            "greenlet                         3.0.0\n",
            "grpc-google-iam-v1               0.12.6\n",
            "grpcio                           1.59.0\n",
            "grpcio-status                    1.48.2\n",
            "gspread                          3.4.2\n",
            "gspread-dataframe                3.3.1\n",
            "gym                              0.25.2\n",
            "gym-notices                      0.0.8\n",
            "h5netcdf                         1.2.0\n",
            "h5py                             3.9.0\n",
            "holidays                         0.34\n",
            "holoviews                        1.17.1\n",
            "html5lib                         1.1\n",
            "httpimport                       1.3.1\n",
            "httplib2                         0.22.0\n",
            "humanize                         4.7.0\n",
            "hyperopt                         0.2.7\n",
            "idna                             3.4\n",
            "imageio                          2.31.5\n",
            "imageio-ffmpeg                   0.4.9\n",
            "imagesize                        1.4.1\n",
            "imbalanced-learn                 0.10.1\n",
            "imgaug                           0.4.0\n",
            "importlib-metadata               6.8.0\n",
            "importlib-resources              6.1.0\n",
            "imutils                          0.5.4\n",
            "inflect                          7.0.0\n",
            "iniconfig                        2.0.0\n",
            "intel-openmp                     2023.2.0\n",
            "ipyevents                        2.0.2\n",
            "ipyfilechooser                   0.6.0\n",
            "ipykernel                        5.5.6\n",
            "ipyleaflet                       0.17.4\n",
            "ipython                          7.34.0\n",
            "ipython-genutils                 0.2.0\n",
            "ipython-sql                      0.5.0\n",
            "ipytree                          0.2.2\n",
            "ipywidgets                       7.7.1\n",
            "itsdangerous                     2.1.2\n",
            "jax                              0.4.16\n",
            "jaxlib                           0.4.16+cuda11.cudnn86\n",
            "jeepney                          0.7.1\n",
            "jieba                            0.42.1\n",
            "Jinja2                           3.1.2\n",
            "joblib                           1.3.2\n",
            "jsonpickle                       3.0.2\n",
            "jsonschema                       4.19.1\n",
            "jsonschema-specifications        2023.7.1\n",
            "jupyter-client                   6.1.12\n",
            "jupyter-console                  6.1.0\n",
            "jupyter_core                     5.4.0\n",
            "jupyter-server                   1.24.0\n",
            "jupyterlab-pygments              0.2.2\n",
            "jupyterlab-widgets               3.0.9\n",
            "kaggle                           1.5.16\n",
            "keras                            2.13.1\n",
            "keyring                          23.5.0\n",
            "kiwisolver                       1.4.5\n",
            "langcodes                        3.3.0\n",
            "launchpadlib                     1.10.16\n",
            "lazr.restfulclient               0.14.4\n",
            "lazr.uri                         1.0.6\n",
            "lazy_loader                      0.3\n",
            "libclang                         16.0.6\n",
            "librosa                          0.10.1\n",
            "lightgbm                         4.0.0\n",
            "linkify-it-py                    2.0.2\n",
            "lit                              17.0.2\n",
            "llvmlite                         0.39.1\n",
            "locket                           1.0.0\n",
            "logical-unification              0.4.6\n",
            "lxml                             4.9.3\n",
            "malloy                           2023.1056\n",
            "Markdown                         3.5\n",
            "markdown-it-py                   3.0.0\n",
            "MarkupSafe                       2.1.3\n",
            "matplotlib                       3.7.1\n",
            "matplotlib-inline                0.1.6\n",
            "matplotlib-venn                  0.11.9\n",
            "mdit-py-plugins                  0.4.0\n",
            "mdurl                            0.1.2\n",
            "miniKanren                       1.0.3\n",
            "missingno                        0.5.2\n",
            "mistune                          0.8.4\n",
            "mizani                           0.9.3\n",
            "mkl                              2023.2.0\n",
            "ml-dtypes                        0.3.1\n",
            "mlxtend                          0.22.0\n",
            "more-itertools                   10.1.0\n",
            "moviepy                          1.0.3\n",
            "mpmath                           1.3.0\n",
            "msgpack                          1.0.7\n",
            "multidict                        6.0.4\n",
            "multipledispatch                 1.0.0\n",
            "multitasking                     0.0.11\n",
            "murmurhash                       1.0.10\n",
            "music21                          9.1.0\n",
            "natsort                          8.4.0\n",
            "nbclassic                        1.0.0\n",
            "nbclient                         0.8.0\n",
            "nbconvert                        6.5.4\n",
            "nbformat                         5.9.2\n",
            "nest-asyncio                     1.5.8\n",
            "networkx                         3.1\n",
            "nibabel                          4.0.2\n",
            "nltk                             3.8.1\n",
            "notebook                         6.5.5\n",
            "notebook_shim                    0.2.3\n",
            "numba                            0.56.4\n",
            "numexpr                          2.8.7\n",
            "numpy                            1.23.5\n",
            "oauth2client                     4.1.3\n",
            "oauthlib                         3.2.2\n",
            "opencv-contrib-python            4.8.0.76\n",
            "opencv-python                    4.8.0.76\n",
            "opencv-python-headless           4.8.1.78\n",
            "openpyxl                         3.1.2\n",
            "opt-einsum                       3.3.0\n",
            "optax                            0.1.7\n",
            "orbax-checkpoint                 0.4.1\n",
            "osqp                             0.6.2.post8\n",
            "packaging                        23.2\n",
            "pandas                           1.5.3\n",
            "pandas-datareader                0.10.0\n",
            "pandas-gbq                       0.17.9\n",
            "pandas-stubs                     1.5.3.230304\n",
            "pandocfilters                    1.5.0\n",
            "panel                            1.2.3\n",
            "param                            1.13.0\n",
            "parso                            0.8.3\n",
            "partd                            1.4.1\n",
            "pathlib                          1.0.1\n",
            "pathy                            0.10.2\n",
            "patsy                            0.5.3\n",
            "peewee                           3.16.3\n",
            "pexpect                          4.8.0\n",
            "pickleshare                      0.7.5\n",
            "Pillow                           9.4.0\n",
            "pip                              23.1.2\n",
            "pip-tools                        6.13.0\n",
            "platformdirs                     3.11.0\n",
            "plotly                           5.15.0\n",
            "plotnine                         0.12.3\n",
            "pluggy                           1.3.0\n",
            "polars                           0.17.3\n",
            "pooch                            1.7.0\n",
            "portpicker                       1.5.2\n",
            "prefetch-generator               1.0.3\n",
            "preshed                          3.0.9\n",
            "prettytable                      3.9.0\n",
            "proglog                          0.1.10\n",
            "progressbar2                     4.2.0\n",
            "prometheus-client                0.17.1\n",
            "promise                          2.3\n",
            "prompt-toolkit                   3.0.39\n",
            "prophet                          1.1.5\n",
            "proto-plus                       1.22.3\n",
            "protobuf                         3.20.3\n",
            "psutil                           5.9.5\n",
            "psycopg2                         2.9.9\n",
            "ptyprocess                       0.7.0\n",
            "py-cpuinfo                       9.0.0\n",
            "py4j                             0.10.9.7\n",
            "pyarrow                          9.0.0\n",
            "pyasn1                           0.5.0\n",
            "pyasn1-modules                   0.3.0\n",
            "pycocotools                      2.0.7\n",
            "pycparser                        2.21\n",
            "pyct                             0.5.0\n",
            "pydantic                         1.10.13\n",
            "pydata-google-auth               1.8.2\n",
            "pydot                            1.4.2\n",
            "pydot-ng                         2.0.0\n",
            "pydotplus                        2.0.2\n",
            "PyDrive                          1.3.1\n",
            "PyDrive2                         1.6.3\n",
            "pyerfa                           2.0.0.3\n",
            "pygame                           2.5.2\n",
            "Pygments                         2.16.1\n",
            "PyGObject                        3.42.1\n",
            "PyJWT                            2.3.0\n",
            "pymc                             5.7.2\n",
            "pymystem3                        0.2.0\n",
            "PyOpenGL                         3.1.7\n",
            "pyOpenSSL                        23.2.0\n",
            "pyparsing                        3.1.1\n",
            "pyperclip                        1.8.2\n",
            "pyproj                           3.6.1\n",
            "pyproject_hooks                  1.0.0\n",
            "pyshp                            2.3.1\n",
            "PySocks                          1.7.1\n",
            "pytensor                         2.14.2\n",
            "pytest                           7.4.2\n",
            "python-apt                       0.0.0\n",
            "python-box                       7.1.1\n",
            "python-dateutil                  2.8.2\n",
            "python-louvain                   0.16\n",
            "python-slugify                   8.0.1\n",
            "python-utils                     3.8.1\n",
            "pytz                             2023.3.post1\n",
            "pyviz_comms                      3.0.0\n",
            "PyWavelets                       1.4.1\n",
            "PyYAML                           6.0.1\n",
            "pyzmq                            23.2.1\n",
            "qdldl                            0.1.7.post0\n",
            "qudida                           0.0.4\n",
            "ratelim                          0.1.6\n",
            "referencing                      0.30.2\n",
            "regex                            2023.6.3\n",
            "requests                         2.31.0\n",
            "requests-oauthlib                1.3.1\n",
            "requirements-parser              0.5.0\n",
            "rich                             13.6.0\n",
            "rpds-py                          0.10.4\n",
            "rpy2                             3.4.2\n",
            "rsa                              4.9\n",
            "scikit-image                     0.19.3\n",
            "scikit-learn                     1.2.2\n",
            "scipy                            1.11.3\n",
            "scooby                           0.7.4\n",
            "scs                              3.2.3\n",
            "seaborn                          0.12.2\n",
            "SecretStorage                    3.3.1\n",
            "Send2Trash                       1.8.2\n",
            "setuptools                       67.7.2\n",
            "shapely                          2.0.1\n",
            "six                              1.16.0\n",
            "sklearn-pandas                   2.2.0\n",
            "smart-open                       6.4.0\n",
            "sniffio                          1.3.0\n",
            "snowballstemmer                  2.2.0\n",
            "sortedcontainers                 2.4.0\n",
            "soundfile                        0.12.1\n",
            "soupsieve                        2.5\n",
            "soxr                             0.3.7\n",
            "spacy                            3.6.1\n",
            "spacy-legacy                     3.0.12\n",
            "spacy-loggers                    1.0.5\n",
            "Sphinx                           5.0.2\n",
            "sphinxcontrib-applehelp          1.0.7\n",
            "sphinxcontrib-devhelp            1.0.5\n",
            "sphinxcontrib-htmlhelp           2.0.4\n",
            "sphinxcontrib-jsmath             1.0.1\n",
            "sphinxcontrib-qthelp             1.0.6\n",
            "sphinxcontrib-serializinghtml    1.1.9\n",
            "SQLAlchemy                       2.0.21\n",
            "sqlparse                         0.4.4\n",
            "srsly                            2.4.8\n",
            "stanio                           0.3.0\n",
            "statsmodels                      0.14.0\n",
            "sympy                            1.12\n",
            "tables                           3.8.0\n",
            "tabulate                         0.9.0\n",
            "tbb                              2021.10.0\n",
            "tblib                            2.0.0\n",
            "tenacity                         8.2.3\n",
            "tensorboard                      2.13.0\n",
            "tensorboard-data-server          0.7.1\n",
            "tensorflow                       2.13.0\n",
            "tensorflow-datasets              4.9.3\n",
            "tensorflow-estimator             2.13.0\n",
            "tensorflow-gcs-config            2.13.0\n",
            "tensorflow-hub                   0.15.0\n",
            "tensorflow-io-gcs-filesystem     0.34.0\n",
            "tensorflow-metadata              1.14.0\n",
            "tensorflow-probability           0.20.1\n",
            "tensorstore                      0.1.45\n",
            "termcolor                        2.3.0\n",
            "terminado                        0.17.1\n",
            "text-unidecode                   1.3\n",
            "textblob                         0.17.1\n",
            "tf-slim                          1.1.0\n",
            "thinc                            8.1.12\n",
            "threadpoolctl                    3.2.0\n",
            "tifffile                         2023.9.26\n",
            "tinycss2                         1.2.1\n",
            "toml                             0.10.2\n",
            "tomli                            2.0.1\n",
            "toolz                            0.12.0\n",
            "torch                            2.0.1+cu118\n",
            "torchaudio                       2.0.2+cu118\n",
            "torchdata                        0.6.1\n",
            "torchsummary                     1.5.1\n",
            "torchtext                        0.15.2\n",
            "torchvision                      0.15.2+cu118\n",
            "tornado                          6.3.2\n",
            "tqdm                             4.66.1\n",
            "traitlets                        5.7.1\n",
            "traittypes                       0.2.1\n",
            "triton                           2.0.0\n",
            "tweepy                           4.13.0\n",
            "typer                            0.9.0\n",
            "types-pytz                       2023.3.1.1\n",
            "types-setuptools                 68.2.0.0\n",
            "typing_extensions                4.5.0\n",
            "tzlocal                          5.1\n",
            "uc-micro-py                      1.0.2\n",
            "uritemplate                      4.1.1\n",
            "urllib3                          2.0.6\n",
            "vega-datasets                    0.9.0\n",
            "wadllib                          1.3.6\n",
            "wasabi                           1.1.2\n",
            "wcwidth                          0.2.8\n",
            "webcolors                        1.13\n",
            "webencodings                     0.5.1\n",
            "websocket-client                 1.6.4\n",
            "Werkzeug                         3.0.0\n",
            "wheel                            0.41.2\n",
            "widgetsnbextension               3.6.6\n",
            "wordcloud                        1.9.2\n",
            "wrapt                            1.15.0\n",
            "xarray                           2023.7.0\n",
            "xarray-einstats                  0.6.0\n",
            "xgboost                          2.0.0\n",
            "xlrd                             2.0.1\n",
            "xyzservices                      2023.10.0\n",
            "yarl                             1.9.2\n",
            "yellowbrick                      1.5\n",
            "yfinance                         0.2.31\n",
            "zict                             3.0.0\n",
            "zipp                             3.17.0\n"
          ]
        }
      ],
      "source": [
        "! pip list"
      ]
    },
    {
      "cell_type": "code",
      "execution_count": 32,
      "id": "03a26eae-c326-4780-aa9b-861e983eb921",
      "metadata": {
        "id": "03a26eae-c326-4780-aa9b-861e983eb921"
      },
      "outputs": [],
      "source": []
    }
  ],
  "metadata": {
    "kernelspec": {
      "display_name": "Python 3",
      "name": "python3"
    },
    "language_info": {
      "codemirror_mode": {
        "name": "ipython",
        "version": 3
      },
      "file_extension": ".py",
      "mimetype": "text/x-python",
      "name": "python",
      "nbconvert_exporter": "python",
      "pygments_lexer": "ipython3",
      "version": "3.10.4"
    },
    "colab": {
      "provenance": [],
      "gpuType": "T4"
    },
    "accelerator": "GPU"
  },
  "nbformat": 4,
  "nbformat_minor": 5
}